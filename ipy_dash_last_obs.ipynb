{
 "cells": [
  {
   "cell_type": "code",
   "execution_count": null,
   "metadata": {},
   "outputs": [],
   "source": [
    "from api_request import api_request\n",
    "import dash_core_components as dcc\n",
    "import dash_html_components as html\n",
    "from dash.dependencies import Input, Output\n",
    "from jupyter_dash import JupyterDash\n",
    "import pandas as pd\n",
    "import plotly.express as px\n",
    "from io import StringIO"
   ]
  },
  {
   "cell_type": "code",
   "execution_count": null,
   "metadata": {},
   "outputs": [],
   "source": [
    "# read indicator list\n",
    "cl_ind = pd.read_csv(\"./indicator_list/CL_INDICATORS_TRANSMONEE.csv\")\n",
    "# read ecaro country list\n",
    "ecaro_geo = pd.read_csv(\"./indicator_list/CL_COUNTRY.csv\")"
   ]
  },
  {
   "cell_type": "code",
   "execution_count": null,
   "metadata": {},
   "outputs": [],
   "source": [
    "# dropdown indicators\n",
    "dd_ind = dcc.Dropdown(\n",
    "    id=\"my_ind\",\n",
    "    options=[\n",
    "        {\"label\": value, \"value\": key}\n",
    "        for key, value in zip(cl_ind.Id,cl_ind.Name)\n",
    "    ],\n",
    "    value='NT_ANT_WHZ_PO2'\n",
    ")\n",
    "# dropdown countries\n",
    "dd_geo = dcc.Dropdown(\n",
    "    id=\"my_geo\",\n",
    "    options=[\n",
    "        {\"label\": value, \"value\": key}\n",
    "        for key, value in zip(ecaro_geo.Id,ecaro_geo.Name)\n",
    "    ],\n",
    "    value='ALB'\n",
    ")"
   ]
  },
  {
   "cell_type": "code",
   "execution_count": null,
   "metadata": {},
   "outputs": [],
   "source": [
    "# detect proxy configuration for JupyterHub or Binder\n",
    "JupyterDash.infer_jupyter_proxy_config()"
   ]
  },
  {
   "cell_type": "code",
   "execution_count": null,
   "metadata": {},
   "outputs": [],
   "source": [
    "external_stylesheets = ['https://codepen.io/chriddyp/pen/bWLwgP.css']\n",
    "# Build App\n",
    "app = JupyterDash(__name__, external_stylesheets=external_stylesheets)\n",
    "# Create server variable with Flask server object for use with gunicorn\n",
    "server = app.server"
   ]
  },
  {
   "cell_type": "code",
   "execution_count": null,
   "metadata": {},
   "outputs": [],
   "source": [
    "# App Layout\n",
    "app.layout = html.Div([\n",
    "    html.H2(\"Check TM DB\"),\n",
    "    html.H6(\"Browse by Indicator: get latest year reported\"),\n",
    "    html.Div([\"Select Indicator\", dd_ind]),\n",
    "    html.Br(),\n",
    "    html.Div(id=\"my-output\"),\n",
    "    html.Br(),\n",
    "    html.H6(\"Browse by Country: visualize (totals) time series\"),\n",
    "    html.Div([\"Select Country\", dd_geo]),\n",
    "    dcc.Graph(id='time-series'),\n",
    "    # Hidden div inside to share data across\n",
    "    html.Div(id='store-codes', style={'display': 'none'})\n",
    "], style={\"height\":\"100vh\"})"
   ]
  },
  {
   "cell_type": "code",
   "execution_count": null,
   "metadata": {},
   "outputs": [],
   "source": [
    "# parameters: API-SDMX Helix (latest observation)\n",
    "api_params = {\"lastNObservations\":1}\n",
    "# parameters: API-SDMX Helix (time series)\n",
    "years = [1950, 2050]\n",
    "api_params_time = {\"startPeriod\": str(years[0]), \"endPeriod\": str(years[1])}\n",
    "# API headers\n",
    "api_headers = {\n",
    "    \"Accept\": \"application/vnd.sdmx.data+csv;version=1.0.0\",\n",
    "    \"Accept-Encoding\": \"gzip\",\n",
    "}\n",
    "# UNICEF data warehouse TM url endpoint\n",
    "wh_url = \"https://sdmx.data.unicef.org/ws/public/sdmxapi/rest/data/TRANSMONEE\"\n",
    "# TRANSMONEE DB DIMENSIONS\n",
    "tm_db_dim = [\"SEX\", \"AGE\", \"RESIDENCE\", \"WEALTH_QUINTILE\"]"
   ]
  },
  {
   "cell_type": "code",
   "execution_count": null,
   "metadata": {},
   "outputs": [],
   "source": [
    "# Define callback: latest year and disagg available\n",
    "@app.callback(\n",
    "    Output(\"my-output\", \"children\"),\n",
    "    Output(\"store-codes\", \"children\"),\n",
    "    Input(\"my_ind\", \"value\"),\n",
    ")\n",
    "def query_db(indicator):\n",
    "    if indicator:\n",
    "        query = f\".{indicator}....\"\n",
    "        ind_req = api_request(f\"{wh_url}/{query}\", api_params, api_headers)\n",
    "        data = pd.read_csv(StringIO(ind_req.text))\n",
    "        # rename column names: only code\n",
    "        cols = data.columns.values\n",
    "        ren_dict = {k: v.split(\":\")[0] for k, v in zip(cols, cols)}\n",
    "        data.rename(columns=ren_dict, inplace=True)\n",
    "        # latest observation\n",
    "        maxdata = data.TIME_PERIOD.max()\n",
    "        # available disagg\n",
    "        disagg_avlbl = [\n",
    "            dim for dim in tm_db_dim if len(data[dim].unique()) > 1\n",
    "        ]\n",
    "        # build message\n",
    "        text_msg = (\n",
    "            f\"Latest Year: {maxdata}\" if not disagg_avlbl else \n",
    "            \"Latest Year: {}, disaggregation: {}\".format(maxdata, \", \".join(disagg_avlbl))\n",
    "        )\n",
    "        # data to share\n",
    "        data_to_share = data.to_json(orient='split')\n",
    "    else:\n",
    "        text_msg = \"Please select indicator\"\n",
    "        data_to_share = None\n",
    "        disagg_avlbl = None\n",
    "    return text_msg, (data_to_share, disagg_avlbl)"
   ]
  },
  {
   "cell_type": "code",
   "execution_count": null,
   "metadata": {},
   "outputs": [],
   "source": [
    "# Define callback to update graph\n",
    "@app.callback(\n",
    "    Output(\"time-series\", \"figure\"),\n",
    "    Input('store-codes', 'children'),\n",
    "    Input(\"my_ind\", \"value\"),\n",
    "    Input(\"my_geo\", \"value\"),\n",
    ")\n",
    "def query_2_plot(last_obs_data, indicator, country):\n",
    "    if (not indicator) & (not country):\n",
    "        return {}\n",
    "    else:\n",
    "        # check disagg from stored data\n",
    "        disagg_avlbl = last_obs_data[1]\n",
    "        if disagg_avlbl:\n",
    "            stored_data = pd.read_json(last_obs_data[0], orient='split')\n",
    "            code_total = {\n",
    "                k:(\n",
    "                    \"_T\" if \"_T: Total\" in stored_data[k].values else\n",
    "                    stored_data[k].unique()[0].split(\":\")[0]\n",
    "                )\n",
    "                for k in disagg_avlbl\n",
    "            }\n",
    "            dim_val = {\n",
    "                k:(\"\" if k not in disagg_avlbl else code_total[k]) for k in tm_db_dim\n",
    "            }\n",
    "            query = \"{}.{}.{}.{}.{}.{}\".format(\n",
    "                country,\n",
    "                indicator,\n",
    "                *dim_val.values(),\n",
    "            )\n",
    "        else:\n",
    "            query = f\"{country}.{indicator}....\"\n",
    "        ind_req_time = api_request(f\"{wh_url}/{query}\", api_params_time, api_headers)\n",
    "        \n",
    "    if ind_req_time.status_code == 200:\n",
    "        data = pd.read_csv(StringIO(ind_req_time.text))\n",
    "        # rename column names: only code\n",
    "        cols = data.columns.values\n",
    "        ren_dict = {k: v.split(\":\")[0] for k, v in zip(cols, cols)}\n",
    "        data.rename(columns=ren_dict, inplace=True)\n",
    "        return px.line(\n",
    "            data,\n",
    "            x=\"TIME_PERIOD\",\n",
    "            y=\"OBS_VALUE\",\n",
    "            hover_name=\"DATA_SOURCE\",\n",
    "            line_shape=\"spline\",\n",
    "        ).update_traces(mode=\"lines+markers\")\n",
    "    else:\n",
    "        return {}"
   ]
  },
  {
   "cell_type": "code",
   "execution_count": null,
   "metadata": {},
   "outputs": [],
   "source": [
    "# Run app and display result inline in the notebook\n",
    "app.run_server(mode='inline')"
   ]
  }
 ],
 "metadata": {
  "kernelspec": {
   "display_name": "Python 3",
   "language": "python",
   "name": "python3"
  },
  "language_info": {
   "codemirror_mode": {
    "name": "ipython",
    "version": 3
   },
   "file_extension": ".py",
   "mimetype": "text/x-python",
   "name": "python",
   "nbconvert_exporter": "python",
   "pygments_lexer": "ipython3",
   "version": "3.7.6"
  },
  "toc": {
   "base_numbering": 1,
   "nav_menu": {},
   "number_sections": true,
   "sideBar": true,
   "skip_h1_title": false,
   "title_cell": "Table of Contents",
   "title_sidebar": "Contents",
   "toc_cell": false,
   "toc_position": {},
   "toc_section_display": true,
   "toc_window_display": false
  }
 },
 "nbformat": 4,
 "nbformat_minor": 4
}
